{
  "nbformat": 4,
  "nbformat_minor": 0,
  "metadata": {
    "colab": {
      "name": "read_tracks_IOU.ipynb",
      "provenance": [],
      "collapsed_sections": []
    },
    "kernelspec": {
      "name": "python3",
      "display_name": "Python 3"
    },
    "language_info": {
      "name": "python"
    }
  },
  "cells": [
    {
      "cell_type": "code",
      "execution_count": 1,
      "metadata": {
        "id": "gI25IaAD0Wx_"
      },
      "outputs": [],
      "source": [
        "\n",
        "import pickle\n",
        "\n",
        "import numpy as np\n",
        "\n",
        "\n",
        "import matplotlib.pyplot as plt\n",
        "\n",
        "from scipy.spatial import distance\n"
      ]
    },
    {
      "cell_type": "code",
      "source": [
        "from google.colab import drive\n",
        "drive.mount('/content/drive')"
      ],
      "metadata": {
        "colab": {
          "base_uri": "https://localhost:8080/"
        },
        "id": "7qpxY0aQ07C-",
        "outputId": "2a7ccb7b-4eef-4b53-d2ab-485983d21786"
      },
      "execution_count": 2,
      "outputs": [
        {
          "output_type": "stream",
          "name": "stdout",
          "text": [
            "Mounted at /content/drive\n"
          ]
        }
      ]
    },
    {
      "cell_type": "code",
      "source": [
        "%cd '/content/drive/MyDrive/MOT/'"
      ],
      "metadata": {
        "id": "7GdQ2gPq0_5b",
        "colab": {
          "base_uri": "https://localhost:8080/"
        },
        "outputId": "c68b2b56-314d-4741-ccfd-61f700967d22"
      },
      "execution_count": 3,
      "outputs": [
        {
          "output_type": "stream",
          "name": "stdout",
          "text": [
            "/content/drive/MyDrive/MOT\n"
          ]
        }
      ]
    },
    {
      "cell_type": "code",
      "source": [
        "with open('tracks_data_lacross_test_3CenterNet1080p_1s_CentroidTracker','rb') as fp:\n",
        "\n",
        "  b=pickle.load(fp)\n",
        "\n",
        "print(len(b))"
      ],
      "metadata": {
        "id": "QxupMQkW1HOx",
        "colab": {
          "base_uri": "https://localhost:8080/"
        },
        "outputId": "71ff60f6-2e09-4d99-d371-4d17fc1af862"
      },
      "execution_count": 4,
      "outputs": [
        {
          "output_type": "stream",
          "name": "stdout",
          "text": [
            "11463\n"
          ]
        }
      ]
    },
    {
      "cell_type": "code",
      "source": [
        "print(b[0])"
      ],
      "metadata": {
        "id": "BvF0zolP1ovK",
        "colab": {
          "base_uri": "https://localhost:8080/"
        },
        "outputId": "386b4b45-6d85-41ba-fc22-3bf5b546452d"
      },
      "execution_count": 5,
      "outputs": [
        {
          "output_type": "stream",
          "name": "stdout",
          "text": [
            "[(1, 0, 1274.0, 713.0, 161.0, 363.0, 0.8581179, -1, -1, -1), (1, 1, 1.0, 728.0, 163.0, 348.0, 0.71958643, -1, -1, -1), (1, 2, 561.0, 462.0, 40.0, 114.0, 0.69902366, -1, -1, -1), (1, 3, 426.0, 434.0, 37.0, 111.0, 0.6671645, -1, -1, -1), (1, 4, 815.0, 431.0, 31.0, 87.0, 0.6067325, -1, -1, -1), (1, 5, 920.0, 583.0, 87.0, 113.0, 0.5928094, -1, -1, -1), (1, 6, 1702.0, 447.0, 53.0, 106.0, 0.545941, -1, -1, -1), (1, 7, 1037.0, 442.0, 31.0, 65.0, 0.516758, -1, -1, -1), (1, 8, 1426.0, 444.0, 43.0, 110.0, 0.5148291, -1, -1, -1), (1, 9, 1480.0, 445.0, 59.0, 137.0, 0.50242037, -1, -1, -1), (1, 10, 1617.0, 441.0, 42.0, 112.0, 0.49612114, -1, -1, -1), (1, 11, 333.0, 435.0, 66.0, 114.0, 0.4847323, -1, -1, -1), (1, 12, 1573.0, 450.0, 38.0, 101.0, 0.4547086, -1, -1, -1)]\n"
          ]
        }
      ]
    },
    {
      "cell_type": "code",
      "source": [
        "out=[]\n",
        "#(xmin, ymin, width, height)\n",
        "for e in b:\n",
        "\n",
        "  for e1 in e:\n",
        "\n",
        "    out.append(e1)\n",
        "\n",
        "out=np.vstack(out)\n",
        "\n",
        "print(out.shape)"
      ],
      "metadata": {
        "id": "9fP3B2nX2C5u",
        "colab": {
          "base_uri": "https://localhost:8080/"
        },
        "outputId": "7034b095-a570-423c-8bc0-508510ded46a"
      },
      "execution_count": 6,
      "outputs": [
        {
          "output_type": "stream",
          "name": "stdout",
          "text": [
            "(105095, 10)\n"
          ]
        }
      ]
    },
    {
      "cell_type": "code",
      "source": [
        "out[10].tolist()"
      ],
      "metadata": {
        "id": "Aq5KNZph3CTb",
        "colab": {
          "base_uri": "https://localhost:8080/"
        },
        "outputId": "0b066f29-e46a-4d69-e998-2108be1a3e4b"
      },
      "execution_count": 7,
      "outputs": [
        {
          "output_type": "execute_result",
          "data": {
            "text/plain": [
              "[1.0, 10.0, 1617.0, 441.0, 42.0, 112.0, 0.4961211383342743, -1.0, -1.0, -1.0]"
            ]
          },
          "metadata": {},
          "execution_count": 7
        }
      ]
    },
    {
      "cell_type": "code",
      "source": [
        "print(np.mean(out[:,-1]))\n",
        "\n"
      ],
      "metadata": {
        "id": "ZqjyWokvd7c7",
        "colab": {
          "base_uri": "https://localhost:8080/"
        },
        "outputId": "ab13e846-e510-43ec-99b2-3e94cc59bfd6"
      },
      "execution_count": 8,
      "outputs": [
        {
          "output_type": "stream",
          "name": "stdout",
          "text": [
            "-1.0\n"
          ]
        }
      ]
    },
    {
      "cell_type": "code",
      "source": [
        "import matplotlib.pyplot as plt\n",
        "\n",
        "plt.figure(figsize=(6,5))\n",
        "plt.hist(out[:,1])\n",
        "plt.show()\n"
      ],
      "metadata": {
        "id": "Kq1GKDQVeDRs",
        "colab": {
          "base_uri": "https://localhost:8080/",
          "height": 320
        },
        "outputId": "6b44c906-d018-4343-8477-a1a9e6671a15"
      },
      "execution_count": 9,
      "outputs": [
        {
          "output_type": "display_data",
          "data": {
            "image/png": "[encoded data removed]",
            "text/plain": [
              "<Figure size 432x360 with 1 Axes>"
            ]
          },
          "metadata": {
            "needs_background": "light"
          }
        }
      ]
    },
    {
      "cell_type": "code",
      "source": [
        "print(np.unique(out[:,1]).shape)\n",
        "\n",
        "m=np.unique(out[:,1]).shape[0]\n",
        "u=np.unique(out[:,1])\n",
        "number_occurance=np.zeros(shape=[m])\n",
        "\n",
        "for i in range(m):\n",
        "\n",
        "  index=out[:,1]==u[i]\n",
        "  number_occurance[i]=np.sum(index)\n",
        "\n",
        "\n",
        "\n",
        "plt.hist(number_occurance)\n",
        "plt.show()\n",
        "\n",
        "plt.hist(u)\n",
        "plt.show()\n",
        "print(u.max())\n",
        "print(u[-1])\n",
        "\n",
        "id_sort=np.argsort(number_occurance)\n",
        "number_occurance=number_occurance[id_sort][::-1].astype(int)\n",
        "u=u[id_sort][::-1].astype(int)\n"
      ],
      "metadata": {
        "id": "fJOmS8o4iIXB",
        "colab": {
          "base_uri": "https://localhost:8080/",
          "height": 565
        },
        "outputId": "cd369dfc-f0a8-4979-f1a9-4034701ede77"
      },
      "execution_count": 10,
      "outputs": [
        {
          "output_type": "stream",
          "name": "stdout",
          "text": [
            "(2465,)\n"
          ]
        },
        {
          "output_type": "display_data",
          "data": {
            "image/png": "[encoded data removed]",
            "text/plain": [
              "<Figure size 432x288 with 1 Axes>"
            ]
          },
          "metadata": {
            "needs_background": "light"
          }
        },
        {
          "output_type": "display_data",
          "data": {
            "image/png": "[encoded data removed]",
            "text/plain": [
              "<Figure size 432x288 with 1 Axes>"
            ]
          },
          "metadata": {
            "needs_background": "light"
          }
        },
        {
          "output_type": "stream",
          "name": "stdout",
          "text": [
            "2464.0\n",
            "2464.0\n"
          ]
        }
      ]
    },
    {
      "cell_type": "code",
      "source": [
        "print('first 10 occurances:\\n',number_occurance[:10])\n",
        "\n",
        "print('first 10 occurances ID:\\n',u[:10].astype(int))\n"
      ],
      "metadata": {
        "id": "F2LbJHl4q3Cr",
        "colab": {
          "base_uri": "https://localhost:8080/"
        },
        "outputId": "202273e7-2d61-418b-c9af-e030e0a3f32a"
      },
      "execution_count": 11,
      "outputs": [
        {
          "output_type": "stream",
          "name": "stdout",
          "text": [
            "first 10 occurances:\n",
            " [987 688 681 650 615 604 580 563 530 526]\n",
            "first 10 occurances ID:\n",
            " [1167 1035 2222 1323 2129    0    1 1095  915 1953]\n"
          ]
        }
      ]
    },
    {
      "cell_type": "code",
      "source": [
        "id=5\n",
        "a=u[id]\n",
        "\n",
        "print(a)\n",
        "print('track id is : {}'.format(a))\n",
        "index=out[:,1]==a\n",
        "\n",
        "sub=out[index]\n",
        "print(sub.shape)\n",
        "print('time frame start time {}'.format(sub[0,0]))\n",
        "#plt.hist(sub[:,0])\n",
        "#plt.show()\n",
        "print(len(np.unique(sub[:,0])))\n",
        "\n",
        "x=sub[:,2]+sub[:,4]/2\n",
        "y=sub[:,3]+sub[:,5]/2\n",
        "plt.figure(figsize=(10,12))\n",
        "plt.scatter(x,y,c='b')\n",
        "plt.xlabel('X axis')\n",
        "plt.ylabel('Y axis')\n",
        "plt.ylim(0,2000)\n",
        "plt.xlim(0,2000)\n",
        "\n",
        "plt.show()"
      ],
      "metadata": {
        "id": "TYpfY8IBexcV",
        "colab": {
          "base_uri": "https://localhost:8080/",
          "height": 805
        },
        "outputId": "1450df1c-051e-4b85-bc8b-7a826b5e001a"
      },
      "execution_count": 18,
      "outputs": [
        {
          "output_type": "stream",
          "name": "stdout",
          "text": [
            "0\n",
            "track id is : 0\n",
            "(604, 10)\n",
            "time frame start time 1.0\n",
            "604\n"
          ]
        },
        {
          "output_type": "display_data",
          "data": {
            "image/png": "[encoded data removed]",
            "text/plain": [
              "<Figure size 720x864 with 1 Axes>"
            ]
          },
          "metadata": {
            "needs_background": "light"
          }
        }
      ]
    },
    {
      "cell_type": "code",
      "source": [
        "from scipy.spatial.distance import pdist\n",
        "from scipy.spatial.distance import squareform"
      ],
      "metadata": {
        "id": "DmKH1X5Ybq6x"
      },
      "execution_count": 15,
      "outputs": []
    },
    {
      "cell_type": "code",
      "source": [
        "def calculate_distance_traveled(x,y):\n",
        "\n",
        "  dis=np.vstack([x,y]).T\n",
        "  M=squareform(pdist(dis)) \n",
        "  d=0\n",
        "  frame_numbers=x.shape[0]\n",
        "  t=frame_numbers/59 ## 59 is the number of frames/sec\n",
        "  print(t)\n",
        "  for i in range(M.shape[0]):\n",
        "\n",
        "    r=M[i,:]\n",
        "    r=r[r>0]\n",
        "\n",
        "    d+=np.min(r)\n",
        "\n",
        "\n",
        "  speed=d/t\n",
        "  return d,speed\n",
        "\n",
        "d,speed=calculate_distance_traveled(x,y)\n",
        "\n",
        "print('total traveled {:.02f} in pixels and his speed was {:.02f} pixels/sec'.format(d,speed))\n",
        "\n"
      ],
      "metadata": {
        "id": "hkgcNYMZa7HV",
        "colab": {
          "base_uri": "https://localhost:8080/"
        },
        "outputId": "7e77234e-93b0-4415-cec6-61691a21a624"
      },
      "execution_count": 19,
      "outputs": [
        {
          "output_type": "stream",
          "name": "stdout",
          "text": [
            "10.23728813559322\n",
            "total traveled 1022.74 in pixels and his speed was 99.90 pixels/sec\n"
          ]
        }
      ]
    }
  ]
}